{
 "cells": [
  {
   "cell_type": "code",
   "execution_count": 1,
   "id": "a799364e",
   "metadata": {},
   "outputs": [],
   "source": [
    "import numpy as np"
   ]
  },
  {
   "cell_type": "markdown",
   "id": "5092b89b",
   "metadata": {},
   "source": [
    "### 1. Create a Numpy array with the following values [1,2,3,4,5]"
   ]
  },
  {
   "cell_type": "code",
   "execution_count": 2,
   "id": "4fc0093c",
   "metadata": {},
   "outputs": [],
   "source": [
    "array1 = np.array([1,2,3,4,5,6])"
   ]
  },
  {
   "cell_type": "code",
   "execution_count": 3,
   "id": "342c4385",
   "metadata": {},
   "outputs": [
    {
     "name": "stdout",
     "output_type": "stream",
     "text": [
      "[1 2 3 4 5 6]\n"
     ]
    }
   ],
   "source": [
    "print(array1)"
   ]
  },
  {
   "cell_type": "markdown",
   "id": "53ba6af4",
   "metadata": {},
   "source": [
    "### 2. Print the shape of the aarray1 using the .shape attribute"
   ]
  },
  {
   "cell_type": "code",
   "execution_count": 4,
   "id": "b07a2e1d",
   "metadata": {},
   "outputs": [
    {
     "data": {
      "text/plain": [
       "(6,)"
      ]
     },
     "execution_count": 4,
     "metadata": {},
     "output_type": "execute_result"
    }
   ],
   "source": [
    "array1.shape"
   ]
  },
  {
   "cell_type": "markdown",
   "id": "90e8fee6",
   "metadata": {},
   "source": [
    "### 3. Reshape the array 1 into a 2D array with 2rows and 3 columns"
   ]
  },
  {
   "cell_type": "code",
   "execution_count": 5,
   "id": "492e8be5",
   "metadata": {},
   "outputs": [
    {
     "name": "stdout",
     "output_type": "stream",
     "text": [
      "[[1 2 3]\n",
      " [4 5 6]]\n"
     ]
    }
   ],
   "source": [
    "array_2d = array1.reshape(2, 3)\n",
    "\n",
    "print(array_2d)"
   ]
  },
  {
   "cell_type": "markdown",
   "id": "ded590d8",
   "metadata": {},
   "source": [
    "### 4. Print the shape of the new array."
   ]
  },
  {
   "cell_type": "code",
   "execution_count": 6,
   "id": "9597aa24",
   "metadata": {},
   "outputs": [
    {
     "data": {
      "text/plain": [
       "(2, 3)"
      ]
     },
     "execution_count": 6,
     "metadata": {},
     "output_type": "execute_result"
    }
   ],
   "source": [
    "array_2d.shape"
   ]
  },
  {
   "cell_type": "markdown",
   "id": "6da8a570",
   "metadata": {},
   "source": [
    "### 5. Create a second NumPy array with the following values: [6, 7, 8, 9, 10]."
   ]
  },
  {
   "cell_type": "code",
   "execution_count": 8,
   "id": "73f8c88e",
   "metadata": {},
   "outputs": [],
   "source": [
    "array2 = np.array([7,8,9,10,11, 12])\n",
    "array3 = array2.reshape(2,3)"
   ]
  },
  {
   "cell_type": "code",
   "execution_count": 9,
   "id": "6d376738",
   "metadata": {},
   "outputs": [
    {
     "name": "stdout",
     "output_type": "stream",
     "text": [
      "[[ 7  8  9]\n",
      " [10 11 12]]\n"
     ]
    }
   ],
   "source": [
    "print(array3)"
   ]
  },
  {
   "cell_type": "markdown",
   "id": "6fcd40a5",
   "metadata": {},
   "source": [
    "### 6. Concatenate the two arrays together horizontally."
   ]
  },
  {
   "cell_type": "code",
   "execution_count": 10,
   "id": "0f646939",
   "metadata": {},
   "outputs": [],
   "source": [
    "array2 = np.array([[1],[2],[3],[4],[5],[6]])\n",
    "array3 = np.array([[7],[8],[9],[10],[11], [12]])\n",
    "result = np.hstack((array2, array3))"
   ]
  },
  {
   "cell_type": "markdown",
   "id": "fc15e2f2",
   "metadata": {},
   "source": [
    "### 7. Print the resulting array"
   ]
  },
  {
   "cell_type": "code",
   "execution_count": 11,
   "id": "856a735e",
   "metadata": {},
   "outputs": [
    {
     "name": "stdout",
     "output_type": "stream",
     "text": [
      "Resulting array:\n",
      "[[ 1  7]\n",
      " [ 2  8]\n",
      " [ 3  9]\n",
      " [ 4 10]\n",
      " [ 5 11]\n",
      " [ 6 12]]\n"
     ]
    }
   ],
   "source": [
    "print(\"Resulting array:\")\n",
    "print(result)"
   ]
  },
  {
   "cell_type": "markdown",
   "id": "0d50920f",
   "metadata": {},
   "source": [
    "### 8. Compute mean, median, and standard deviation"
   ]
  },
  {
   "cell_type": "code",
   "execution_count": 12,
   "id": "8a365f58",
   "metadata": {},
   "outputs": [
    {
     "name": "stdout",
     "output_type": "stream",
     "text": [
      "Mean: 6.5\n",
      "Median: 6.5\n",
      "Standard Deviation: 3.452052529534663\n"
     ]
    }
   ],
   "source": [
    "mean = np.mean(result)\n",
    "median = np.median(result)\n",
    "std_dev = np.std(result)\n",
    "\n",
    "print(\"Mean:\", mean)\n",
    "print(\"Median:\", median)\n",
    "print(\"Standard Deviation:\", std_dev)"
   ]
  },
  {
   "cell_type": "code",
   "execution_count": null,
   "id": "4428fae4",
   "metadata": {},
   "outputs": [],
   "source": []
  }
 ],
 "metadata": {
  "kernelspec": {
   "display_name": "Python 3 (ipykernel)",
   "language": "python",
   "name": "python3"
  },
  "language_info": {
   "codemirror_mode": {
    "name": "ipython",
    "version": 3
   },
   "file_extension": ".py",
   "mimetype": "text/x-python",
   "name": "python",
   "nbconvert_exporter": "python",
   "pygments_lexer": "ipython3",
   "version": "3.10.9"
  }
 },
 "nbformat": 4,
 "nbformat_minor": 5
}
