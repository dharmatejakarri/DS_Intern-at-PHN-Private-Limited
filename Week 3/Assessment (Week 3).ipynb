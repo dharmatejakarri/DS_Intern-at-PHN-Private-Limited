{
 "cells": [
  {
   "cell_type": "code",
   "execution_count": 1,
   "id": "88841d49",
   "metadata": {},
   "outputs": [],
   "source": [
    "from openpyxl import Workbook"
   ]
  },
  {
   "cell_type": "code",
   "execution_count": 2,
   "id": "2ed9129a",
   "metadata": {},
   "outputs": [],
   "source": [
    "wb=Workbook()"
   ]
  },
  {
   "cell_type": "code",
   "execution_count": 3,
   "id": "4222aa8e",
   "metadata": {},
   "outputs": [],
   "source": [
    "ws=wb.active"
   ]
  },
  {
   "cell_type": "markdown",
   "id": "c62fd36f",
   "metadata": {},
   "source": [
    "#### 1. The data should be in a table with a header row and at least one row of data.\n",
    "#### 2. The first column should contain the name of a fruit, and the second column should contain the quantity of that fruit."
   ]
  },
  {
   "cell_type": "code",
   "execution_count": 4,
   "id": "a6e1f7c6",
   "metadata": {},
   "outputs": [],
   "source": [
    "#define the data\n",
    "fruits_list=[[\"Fruit\",\"Qantity\"], [\"Banana\",30], [\"Mango\",50], [\"Apple\", 60], [\"Orange\", 30], [\"Banana\", 40], [\"Mango\", 10], [\"Orange\", 10]]"
   ]
  },
  {
   "cell_type": "code",
   "execution_count": 5,
   "id": "ff38ca8d",
   "metadata": {},
   "outputs": [],
   "source": [
    "for row in fruits_list:\n",
    "    ws.append(row)"
   ]
  },
  {
   "cell_type": "code",
   "execution_count": 6,
   "id": "ddbc9c6d",
   "metadata": {},
   "outputs": [],
   "source": [
    "from openpyxl.styles import Font,PatternFill\n",
    "ft=Font(bold=True,color='F63C0A',size=12,italic=False)\n",
    "fill=PatternFill(fill_type='solid',start_color='C9D3D1')"
   ]
  },
  {
   "cell_type": "code",
   "execution_count": 7,
   "id": "1d0532f8",
   "metadata": {},
   "outputs": [],
   "source": [
    "for col in ws['A1:C1']:\n",
    "    for cell in col:\n",
    "        cell.font=ft\n",
    "        cell.fill=fill"
   ]
  },
  {
   "cell_type": "code",
   "execution_count": 8,
   "id": "47732ee5",
   "metadata": {},
   "outputs": [],
   "source": [
    "wb.save('C:\\\\Users\\\\notif\\\\PHN Internship\\\\fruits_data.xlsx')"
   ]
  },
  {
   "cell_type": "markdown",
   "id": "e47d4f8c",
   "metadata": {},
   "source": [
    "#### 1. Read the data from the Excel spreadsheet."
   ]
  },
  {
   "cell_type": "markdown",
   "id": "f9b5f2a2",
   "metadata": {},
   "source": [
    "import pandas as pd\n",
    "data=pd.read_excel('D:\\\\study meterials\\\\phn\\\\fruits.xls')\n",
    "data"
   ]
  },
  {
   "cell_type": "markdown",
   "id": "9fb9dfc8",
   "metadata": {},
   "source": [
    "1. Read the data from the Excel spreadsheet.\n",
    "2. Calculate the total quantity of each fruit.\n",
    "3. Write the results to a new Excel spreadsheet with the following format:\n",
    "4. The first column should contain the name of each fruit.\n",
    "5. The second column should contain the total quantity of that fruit."
   ]
  },
  {
   "cell_type": "code",
   "execution_count": 9,
   "id": "c3c655f8",
   "metadata": {},
   "outputs": [],
   "source": [
    "# Calculate the total quantity of each fruit\n",
    "fruit_totals = {}\n",
    "for row in fruits_list[1:]:\n",
    "    fruit = row[0]\n",
    "    quantity = row[1]\n",
    "    if fruit in fruit_totals:\n",
    "        fruit_totals[fruit] += quantity\n",
    "    else:\n",
    "        fruit_totals[fruit] = quantity"
   ]
  },
  {
   "cell_type": "markdown",
   "id": "a4dc04e0",
   "metadata": {},
   "source": [
    "fruit_totals"
   ]
  },
  {
   "cell_type": "code",
   "execution_count": 10,
   "id": "fe49a3e2",
   "metadata": {},
   "outputs": [],
   "source": [
    "# Create a new workbook for the output\n",
    "wb_output = Workbook()\n",
    "sheet_output = wb_output.active"
   ]
  },
  {
   "cell_type": "code",
   "execution_count": 16,
   "id": "8ae281b2",
   "metadata": {},
   "outputs": [],
   "source": [
    "sheet_output.append(['Name of fruit','Total Quantity'])"
   ]
  },
  {
   "cell_type": "code",
   "execution_count": 17,
   "id": "919bf173",
   "metadata": {},
   "outputs": [],
   "source": [
    "# Write the fruit totals to the output spreadsheet\n",
    "for fruit, quantity in fruit_totals.items():\n",
    "    sheet_output.append([fruit, quantity])"
   ]
  },
  {
   "cell_type": "code",
   "execution_count": 18,
   "id": "9f9e9ce0",
   "metadata": {},
   "outputs": [],
   "source": [
    "from openpyxl.styles import Font,PatternFill\n",
    "font=Font(bold=True,color='F63C0A',size=12,italic=False)\n",
    "filling=PatternFill(fill_type='solid',start_color='C9D3D1')"
   ]
  },
  {
   "cell_type": "code",
   "execution_count": 19,
   "id": "298f3cf2",
   "metadata": {},
   "outputs": [],
   "source": [
    "for col in sheet_output['A1:B1']:\n",
    "    for cell in col:\n",
    "        cell.font=font\n",
    "        cell.fill=filling"
   ]
  },
  {
   "cell_type": "code",
   "execution_count": 20,
   "id": "5206b49f",
   "metadata": {},
   "outputs": [],
   "source": [
    "wb_output.save('C:\\\\Users\\\\notif\\\\PHN Internship\\\\fruits_finaldata.xlsx')"
   ]
  },
  {
   "cell_type": "code",
   "execution_count": null,
   "id": "7a691612",
   "metadata": {},
   "outputs": [],
   "source": []
  }
 ],
 "metadata": {
  "kernelspec": {
   "display_name": "Python 3 (ipykernel)",
   "language": "python",
   "name": "python3"
  },
  "language_info": {
   "codemirror_mode": {
    "name": "ipython",
    "version": 3
   },
   "file_extension": ".py",
   "mimetype": "text/x-python",
   "name": "python",
   "nbconvert_exporter": "python",
   "pygments_lexer": "ipython3",
   "version": "3.10.9"
  }
 },
 "nbformat": 4,
 "nbformat_minor": 5
}
